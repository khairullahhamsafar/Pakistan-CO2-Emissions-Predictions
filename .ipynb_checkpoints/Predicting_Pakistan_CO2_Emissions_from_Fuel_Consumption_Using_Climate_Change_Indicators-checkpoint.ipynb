{
 "cells": [
  {
   "cell_type": "markdown",
   "id": "7fb99fb7",
   "metadata": {},
   "source": [
    "# Predicting Pakistan CO2 Emissions from Solid Fuel Consumption Using Climate Change Indicators."
   ]
  },
  {
   "cell_type": "markdown",
   "id": "e17bc0ca",
   "metadata": {},
   "source": [
    "# Introduction"
   ]
  },
  {
   "cell_type": "markdown",
   "id": "f5367203",
   "metadata": {},
   "source": [
    "<p>Pakistan, situated at the forefront of climate change impacts, faces severe environmental challenges. Global warming, exacerbated by human activities, has led to increased carbon dioxide (CO2) emissions, contributing to environmental degradation. CO2, a major greenhouse gas, plays a pivotal role in climate change, trapping heat and intensifying global warming. The burning of fossil fuels, primarily in the form of solid and liquid fuels, significantly contributes to CO2 emissions. Understanding these dynamics is crucial for devising sustainable solutions. This project focuses on predicting Pakistan's CO2 emissions from solid fuel consumption using deep learning approaches, specifically convolutional neural networks (CNN) and recurrent neural networks (RNN).</p>"
   ]
  },
  {
   "cell_type": "markdown",
   "id": "da425256",
   "metadata": {},
   "source": [
    "# Problem Statement"
   ]
  },
  {
   "cell_type": "markdown",
   "id": "f42e4748",
   "metadata": {},
   "source": [
    "<p>Conventional methods for predicting CO2 emissions lack the granularity required to capture the nuances of Pakistan's climate indicators. The project addresses the inadequacies in existing models by employing deep learning techniques. The challenge lies in developing a robust and accurate predictor that can decipher the intricate patterns and dependencies within the climate change indicators, specifically targeting CO2 emissions arising from fuel consumption in Pakistan.</p>"
   ]
  },
  {
   "cell_type": "markdown",
   "id": "e8dd4c6d",
   "metadata": {},
   "source": [
    "# Aims and Objectives"
   ]
  },
  {
   "cell_type": "markdown",
   "id": "0ac6c9af",
   "metadata": {},
   "source": [
    "1. To design and implement a deep learning-based predictor for Pakistan's CO2 emissions.\n",
    "1. To enhance predictive accuracy by leveraging CNN for feature extraction from climate change indicators.\n",
    "1. To incorporate temporal dependencies using RNN to capture sequential patterns in emissions data.\n",
    "1. To evaluate the predictor's performance against historical climate data, ensuring reliability and generalizability.\n",
    "1. To contribute insights into the complex interplay between climate change indicators and fuel-based CO2 emissions in Pakistan."
   ]
  },
  {
   "cell_type": "markdown",
   "id": "1005a054",
   "metadata": {},
   "source": [
    "# About The Data"
   ]
  },
  {
   "cell_type": "markdown",
   "id": "e7698704",
   "metadata": {},
   "source": [
    "<p>The dataset, sourced from The Humanitarian Data Exchange (HDX), spans from 1960 to 2021, encompassing diverse climate change indicators in Pakistan. With 77 columns initially, the dataset was refined to 25 columns, focusing on data spanning at least 45 years. These indicators include agricultural land percentage, CO2 emissions, renewable energy consumption, and more. The comprehensive dataset serves as a valuable resource for conducting in-depth analyses and training deep learning models to predict CO2 emissions based on fuel consumption in Pakistan.</p>"
   ]
  },
  {
   "cell_type": "markdown",
   "id": "b75a70de",
   "metadata": {},
   "source": [
    "# Importing necessary libraries."
   ]
  },
  {
   "cell_type": "code",
   "execution_count": 1,
   "id": "02109a1e",
   "metadata": {},
   "outputs": [
    {
     "name": "stdout",
     "output_type": "stream",
     "text": [
      "WARNING:tensorflow:From C:\\Users\\Khairullah_Hamsafar\\AppData\\Roaming\\Python\\Python311\\site-packages\\keras\\src\\losses.py:2976: The name tf.losses.sparse_softmax_cross_entropy is deprecated. Please use tf.compat.v1.losses.sparse_softmax_cross_entropy instead.\n",
      "\n"
     ]
    }
   ],
   "source": [
    "import pandas as pd\n",
    "import numpy as np\n",
    "import matplotlib.pyplot as plt\n",
    "import seaborn as sns\n",
    "from sklearn.model_selection import train_test_split\n",
    "from sklearn.preprocessing import StandardScaler\n",
    "from sklearn.metrics import r2_score, mean_absolute_error, mean_squared_error\n",
    "from sklearn.impute import SimpleImputer\n",
    "from sklearn.preprocessing import MinMaxScaler\n",
    "from keras.models import Sequential\n",
    "from keras.layers import Dense, Conv1D, MaxPooling1D, Flatten, LSTM\n",
    "from keras.optimizers import Adam\n",
    "from keras.layers import BatchNormalization"
   ]
  },
  {
   "cell_type": "markdown",
   "id": "bb7347f3",
   "metadata": {},
   "source": [
    "# Loading Data and Converting into DataFrame."
   ]
  },
  {
   "cell_type": "code",
   "execution_count": 2,
   "id": "877b1198",
   "metadata": {},
   "outputs": [],
   "source": [
    "data = pd.read_csv('Datasets/Pak_Climate_Change_Indicators_By_HDX.csv')"
   ]
  },
  {
   "cell_type": "code",
   "execution_count": 3,
   "id": "7c6738d9",
   "metadata": {},
   "outputs": [],
   "source": [
    "df = pd.DataFrame(data)"
   ]
  },
  {
   "cell_type": "code",
   "execution_count": 4,
   "id": "e2d05f9e",
   "metadata": {
    "scrolled": false
   },
   "outputs": [
    {
     "data": {
      "text/html": [
       "<div>\n",
       "<style scoped>\n",
       "    .dataframe tbody tr th:only-of-type {\n",
       "        vertical-align: middle;\n",
       "    }\n",
       "\n",
       "    .dataframe tbody tr th {\n",
       "        vertical-align: top;\n",
       "    }\n",
       "\n",
       "    .dataframe thead th {\n",
       "        text-align: right;\n",
       "    }\n",
       "</style>\n",
       "<table border=\"1\" class=\"dataframe\">\n",
       "  <thead>\n",
       "    <tr style=\"text-align: right;\">\n",
       "      <th></th>\n",
       "      <th>Sno</th>\n",
       "      <th>Country Name</th>\n",
       "      <th>Year</th>\n",
       "      <th>CO2 intensity (kg per kg of oil equivalent energy use) Value</th>\n",
       "      <th>CO2 emissions from solid fuel consumption (kt) Value</th>\n",
       "      <th>Cereal yield (kg per hectare) Value</th>\n",
       "      <th>Urban population growth (annual %) Value</th>\n",
       "      <th>Population growth (annual %) Value</th>\n",
       "      <th>Population, total Value</th>\n",
       "      <th>Urban population Value</th>\n",
       "      <th>...</th>\n",
       "      <th>Other greenhouse gas emissions, HFC, PFC and SF6 (thousand metric tons of CO2 equivalent) Value</th>\n",
       "      <th>Urban population (% of total population) Value</th>\n",
       "      <th>Agricultural land (sq. km) Value</th>\n",
       "      <th>Mortality rate, under-5 (per 1,000 live births) Value</th>\n",
       "      <th>Agriculture, forestry, and fishing, value added (% of GDP) Value</th>\n",
       "      <th>CO2 emissions from solid fuel consumption (% of total) Value</th>\n",
       "      <th>Population in urban agglomerations of more than 1 million (% of total population) Value</th>\n",
       "      <th>CO2 emissions from liquid fuel consumption (% of total) Value</th>\n",
       "      <th>Agricultural land (% of land area) Value</th>\n",
       "      <th>RainFall Mean ()</th>\n",
       "    </tr>\n",
       "  </thead>\n",
       "  <tbody>\n",
       "    <tr>\n",
       "      <th>0</th>\n",
       "      <td>1</td>\n",
       "      <td>Pakistan</td>\n",
       "      <td>1960</td>\n",
       "      <td>NaN</td>\n",
       "      <td>5892.869</td>\n",
       "      <td>NaN</td>\n",
       "      <td>NaN</td>\n",
       "      <td>NaN</td>\n",
       "      <td>44988690</td>\n",
       "      <td>9944300</td>\n",
       "      <td>...</td>\n",
       "      <td>NaN</td>\n",
       "      <td>22.104</td>\n",
       "      <td>NaN</td>\n",
       "      <td>252.0</td>\n",
       "      <td>43.189201</td>\n",
       "      <td>41.632124</td>\n",
       "      <td>11.501177</td>\n",
       "      <td>46.295337</td>\n",
       "      <td>NaN</td>\n",
       "      <td>22.968764</td>\n",
       "    </tr>\n",
       "    <tr>\n",
       "      <th>1</th>\n",
       "      <td>2</td>\n",
       "      <td>Pakistan</td>\n",
       "      <td>1961</td>\n",
       "      <td>NaN</td>\n",
       "      <td>5804.861</td>\n",
       "      <td>856.4</td>\n",
       "      <td>4.144844</td>\n",
       "      <td>2.364729</td>\n",
       "      <td>46065229</td>\n",
       "      <td>10365137</td>\n",
       "      <td>...</td>\n",
       "      <td>NaN</td>\n",
       "      <td>22.501</td>\n",
       "      <td>357300.0</td>\n",
       "      <td>243.0</td>\n",
       "      <td>41.727426</td>\n",
       "      <td>39.604704</td>\n",
       "      <td>11.799774</td>\n",
       "      <td>46.785089</td>\n",
       "      <td>46.349626</td>\n",
       "      <td>30.017449</td>\n",
       "    </tr>\n",
       "    <tr>\n",
       "      <th>2</th>\n",
       "      <td>3</td>\n",
       "      <td>Pakistan</td>\n",
       "      <td>1962</td>\n",
       "      <td>NaN</td>\n",
       "      <td>6189.896</td>\n",
       "      <td>858.0</td>\n",
       "      <td>3.536128</td>\n",
       "      <td>2.431188</td>\n",
       "      <td>47198886</td>\n",
       "      <td>10738219</td>\n",
       "      <td>...</td>\n",
       "      <td>NaN</td>\n",
       "      <td>22.751</td>\n",
       "      <td>358400.0</td>\n",
       "      <td>234.5</td>\n",
       "      <td>40.029233</td>\n",
       "      <td>38.433515</td>\n",
       "      <td>12.057857</td>\n",
       "      <td>46.698543</td>\n",
       "      <td>46.492320</td>\n",
       "      <td>22.300155</td>\n",
       "    </tr>\n",
       "    <tr>\n",
       "      <th>3</th>\n",
       "      <td>4</td>\n",
       "      <td>Pakistan</td>\n",
       "      <td>1963</td>\n",
       "      <td>NaN</td>\n",
       "      <td>6681.274</td>\n",
       "      <td>877.7</td>\n",
       "      <td>3.583896</td>\n",
       "      <td>2.486695</td>\n",
       "      <td>48387293</td>\n",
       "      <td>11130045</td>\n",
       "      <td>...</td>\n",
       "      <td>NaN</td>\n",
       "      <td>23.002</td>\n",
       "      <td>358800.0</td>\n",
       "      <td>226.5</td>\n",
       "      <td>38.840015</td>\n",
       "      <td>36.086354</td>\n",
       "      <td>12.315756</td>\n",
       "      <td>48.385819</td>\n",
       "      <td>46.544209</td>\n",
       "      <td>18.846562</td>\n",
       "    </tr>\n",
       "    <tr>\n",
       "      <th>4</th>\n",
       "      <td>5</td>\n",
       "      <td>Pakistan</td>\n",
       "      <td>1964</td>\n",
       "      <td>NaN</td>\n",
       "      <td>6523.593</td>\n",
       "      <td>886.5</td>\n",
       "      <td>3.629236</td>\n",
       "      <td>2.531036</td>\n",
       "      <td>49627623</td>\n",
       "      <td>11541400</td>\n",
       "      <td>...</td>\n",
       "      <td>NaN</td>\n",
       "      <td>23.256</td>\n",
       "      <td>363550.0</td>\n",
       "      <td>219.3</td>\n",
       "      <td>38.324054</td>\n",
       "      <td>34.270853</td>\n",
       "      <td>12.575408</td>\n",
       "      <td>47.640146</td>\n",
       "      <td>47.160388</td>\n",
       "      <td>25.169663</td>\n",
       "    </tr>\n",
       "  </tbody>\n",
       "</table>\n",
       "<p>5 rows × 25 columns</p>\n",
       "</div>"
      ],
      "text/plain": [
       "   Sno Country Name  Year  \\\n",
       "0    1     Pakistan  1960   \n",
       "1    2     Pakistan  1961   \n",
       "2    3     Pakistan  1962   \n",
       "3    4     Pakistan  1963   \n",
       "4    5     Pakistan  1964   \n",
       "\n",
       "   CO2 intensity (kg per kg of oil equivalent energy use) Value  \\\n",
       "0                                                NaN              \n",
       "1                                                NaN              \n",
       "2                                                NaN              \n",
       "3                                                NaN              \n",
       "4                                                NaN              \n",
       "\n",
       "   CO2 emissions from solid fuel consumption (kt) Value  \\\n",
       "0                                           5892.869      \n",
       "1                                           5804.861      \n",
       "2                                           6189.896      \n",
       "3                                           6681.274      \n",
       "4                                           6523.593      \n",
       "\n",
       "   Cereal yield (kg per hectare) Value  \\\n",
       "0                                  NaN   \n",
       "1                                856.4   \n",
       "2                                858.0   \n",
       "3                                877.7   \n",
       "4                                886.5   \n",
       "\n",
       "   Urban population growth (annual %) Value  \\\n",
       "0                                       NaN   \n",
       "1                                  4.144844   \n",
       "2                                  3.536128   \n",
       "3                                  3.583896   \n",
       "4                                  3.629236   \n",
       "\n",
       "   Population growth (annual %) Value  Population, total Value  \\\n",
       "0                                 NaN                 44988690   \n",
       "1                            2.364729                 46065229   \n",
       "2                            2.431188                 47198886   \n",
       "3                            2.486695                 48387293   \n",
       "4                            2.531036                 49627623   \n",
       "\n",
       "   Urban population Value  ...  \\\n",
       "0                 9944300  ...   \n",
       "1                10365137  ...   \n",
       "2                10738219  ...   \n",
       "3                11130045  ...   \n",
       "4                11541400  ...   \n",
       "\n",
       "   Other greenhouse gas emissions, HFC, PFC and SF6 (thousand metric tons of CO2 equivalent) Value  \\\n",
       "0                                                NaN                                                 \n",
       "1                                                NaN                                                 \n",
       "2                                                NaN                                                 \n",
       "3                                                NaN                                                 \n",
       "4                                                NaN                                                 \n",
       "\n",
       "   Urban population (% of total population) Value  \\\n",
       "0                                          22.104   \n",
       "1                                          22.501   \n",
       "2                                          22.751   \n",
       "3                                          23.002   \n",
       "4                                          23.256   \n",
       "\n",
       "   Agricultural land (sq. km) Value  \\\n",
       "0                               NaN   \n",
       "1                          357300.0   \n",
       "2                          358400.0   \n",
       "3                          358800.0   \n",
       "4                          363550.0   \n",
       "\n",
       "   Mortality rate, under-5 (per 1,000 live births) Value  \\\n",
       "0                                              252.0       \n",
       "1                                              243.0       \n",
       "2                                              234.5       \n",
       "3                                              226.5       \n",
       "4                                              219.3       \n",
       "\n",
       "   Agriculture, forestry, and fishing, value added (% of GDP) Value  \\\n",
       "0                                          43.189201                  \n",
       "1                                          41.727426                  \n",
       "2                                          40.029233                  \n",
       "3                                          38.840015                  \n",
       "4                                          38.324054                  \n",
       "\n",
       "   CO2 emissions from solid fuel consumption (% of total) Value  \\\n",
       "0                                          41.632124              \n",
       "1                                          39.604704              \n",
       "2                                          38.433515              \n",
       "3                                          36.086354              \n",
       "4                                          34.270853              \n",
       "\n",
       "   Population in urban agglomerations of more than 1 million (% of total population) Value  \\\n",
       "0                                          11.501177                                         \n",
       "1                                          11.799774                                         \n",
       "2                                          12.057857                                         \n",
       "3                                          12.315756                                         \n",
       "4                                          12.575408                                         \n",
       "\n",
       "   CO2 emissions from liquid fuel consumption (% of total) Value  \\\n",
       "0                                          46.295337               \n",
       "1                                          46.785089               \n",
       "2                                          46.698543               \n",
       "3                                          48.385819               \n",
       "4                                          47.640146               \n",
       "\n",
       "   Agricultural land (% of land area) Value  RainFall Mean ()  \n",
       "0                                       NaN         22.968764  \n",
       "1                                 46.349626         30.017449  \n",
       "2                                 46.492320         22.300155  \n",
       "3                                 46.544209         18.846562  \n",
       "4                                 47.160388         25.169663  \n",
       "\n",
       "[5 rows x 25 columns]"
      ]
     },
     "execution_count": 4,
     "metadata": {},
     "output_type": "execute_result"
    }
   ],
   "source": [
    "df.head()"
   ]
  },
  {
   "cell_type": "markdown",
   "id": "daab44f0",
   "metadata": {},
   "source": [
    "# Exploratory Data Analysis (EDA)."
   ]
  },
  {
   "cell_type": "code",
   "execution_count": 5,
   "id": "9f9551c5",
   "metadata": {},
   "outputs": [
    {
     "data": {
      "text/plain": [
       "(62, 25)"
      ]
     },
     "execution_count": 5,
     "metadata": {},
     "output_type": "execute_result"
    }
   ],
   "source": [
    "df.shape"
   ]
  },
  {
   "cell_type": "code",
   "execution_count": 6,
   "id": "2563c31c",
   "metadata": {},
   "outputs": [
    {
     "data": {
      "text/html": [
       "<div>\n",
       "<style scoped>\n",
       "    .dataframe tbody tr th:only-of-type {\n",
       "        vertical-align: middle;\n",
       "    }\n",
       "\n",
       "    .dataframe tbody tr th {\n",
       "        vertical-align: top;\n",
       "    }\n",
       "\n",
       "    .dataframe thead th {\n",
       "        text-align: right;\n",
       "    }\n",
       "</style>\n",
       "<table border=\"1\" class=\"dataframe\">\n",
       "  <thead>\n",
       "    <tr style=\"text-align: right;\">\n",
       "      <th></th>\n",
       "      <th>Sno</th>\n",
       "      <th>Year</th>\n",
       "      <th>CO2 intensity (kg per kg of oil equivalent energy use) Value</th>\n",
       "      <th>CO2 emissions from solid fuel consumption (kt) Value</th>\n",
       "      <th>Cereal yield (kg per hectare) Value</th>\n",
       "      <th>Urban population growth (annual %) Value</th>\n",
       "      <th>Population growth (annual %) Value</th>\n",
       "      <th>Population, total Value</th>\n",
       "      <th>Urban population Value</th>\n",
       "      <th>CO2 emissions from liquid fuel consumption (kt) Value</th>\n",
       "      <th>...</th>\n",
       "      <th>Other greenhouse gas emissions, HFC, PFC and SF6 (thousand metric tons of CO2 equivalent) Value</th>\n",
       "      <th>Urban population (% of total population) Value</th>\n",
       "      <th>Agricultural land (sq. km) Value</th>\n",
       "      <th>Mortality rate, under-5 (per 1,000 live births) Value</th>\n",
       "      <th>Agriculture, forestry, and fishing, value added (% of GDP) Value</th>\n",
       "      <th>CO2 emissions from solid fuel consumption (% of total) Value</th>\n",
       "      <th>Population in urban agglomerations of more than 1 million (% of total population) Value</th>\n",
       "      <th>CO2 emissions from liquid fuel consumption (% of total) Value</th>\n",
       "      <th>Agricultural land (% of land area) Value</th>\n",
       "      <th>RainFall Mean ()</th>\n",
       "    </tr>\n",
       "  </thead>\n",
       "  <tbody>\n",
       "    <tr>\n",
       "      <th>count</th>\n",
       "      <td>62.000000</td>\n",
       "      <td>62.000000</td>\n",
       "      <td>44.000000</td>\n",
       "      <td>57.000000</td>\n",
       "      <td>58.000000</td>\n",
       "      <td>61.000000</td>\n",
       "      <td>61.000000</td>\n",
       "      <td>6.200000e+01</td>\n",
       "      <td>6.200000e+01</td>\n",
       "      <td>57.000000</td>\n",
       "      <td>...</td>\n",
       "      <td>47.000000</td>\n",
       "      <td>62.000000</td>\n",
       "      <td>58.000000</td>\n",
       "      <td>61.000000</td>\n",
       "      <td>62.000000</td>\n",
       "      <td>57.000000</td>\n",
       "      <td>62.000000</td>\n",
       "      <td>57.000000</td>\n",
       "      <td>58.000000</td>\n",
       "      <td>57.000000</td>\n",
       "    </tr>\n",
       "    <tr>\n",
       "      <th>mean</th>\n",
       "      <td>31.500000</td>\n",
       "      <td>1990.500000</td>\n",
       "      <td>1.451658</td>\n",
       "      <td>8820.807667</td>\n",
       "      <td>1901.355172</td>\n",
       "      <td>3.504194</td>\n",
       "      <td>2.640291</td>\n",
       "      <td>1.179280e+08</td>\n",
       "      <td>3.812156e+07</td>\n",
       "      <td>32724.115000</td>\n",
       "      <td>...</td>\n",
       "      <td>-4873.455676</td>\n",
       "      <td>30.287258</td>\n",
       "      <td>362604.137931</td>\n",
       "      <td>140.677049</td>\n",
       "      <td>27.154193</td>\n",
       "      <td>15.253777</td>\n",
       "      <td>16.630572</td>\n",
       "      <td>47.870408</td>\n",
       "      <td>47.037689</td>\n",
       "      <td>25.690321</td>\n",
       "    </tr>\n",
       "    <tr>\n",
       "      <th>std</th>\n",
       "      <td>18.041619</td>\n",
       "      <td>18.041619</td>\n",
       "      <td>0.191260</td>\n",
       "      <td>5801.626119</td>\n",
       "      <td>685.292246</td>\n",
       "      <td>0.587140</td>\n",
       "      <td>0.408392</td>\n",
       "      <td>5.531002e+07</td>\n",
       "      <td>2.245096e+07</td>\n",
       "      <td>22374.705553</td>\n",
       "      <td>...</td>\n",
       "      <td>4021.058214</td>\n",
       "      <td>4.533477</td>\n",
       "      <td>6958.729223</td>\n",
       "      <td>49.949115</td>\n",
       "      <td>5.734083</td>\n",
       "      <td>8.455325</td>\n",
       "      <td>2.267834</td>\n",
       "      <td>4.899061</td>\n",
       "      <td>0.902699</td>\n",
       "      <td>4.867419</td>\n",
       "    </tr>\n",
       "    <tr>\n",
       "      <th>min</th>\n",
       "      <td>1.000000</td>\n",
       "      <td>1960.000000</td>\n",
       "      <td>1.082135</td>\n",
       "      <td>2020.517000</td>\n",
       "      <td>840.000000</td>\n",
       "      <td>2.649983</td>\n",
       "      <td>1.931319</td>\n",
       "      <td>4.498869e+07</td>\n",
       "      <td>9.944300e+06</td>\n",
       "      <td>6552.929000</td>\n",
       "      <td>...</td>\n",
       "      <td>-9873.901367</td>\n",
       "      <td>22.104000</td>\n",
       "      <td>352060.000000</td>\n",
       "      <td>65.200000</td>\n",
       "      <td>20.677871</td>\n",
       "      <td>8.064387</td>\n",
       "      <td>11.501177</td>\n",
       "      <td>39.083761</td>\n",
       "      <td>45.669884</td>\n",
       "      <td>15.983080</td>\n",
       "    </tr>\n",
       "    <tr>\n",
       "      <th>25%</th>\n",
       "      <td>16.250000</td>\n",
       "      <td>1975.250000</td>\n",
       "      <td>1.348312</td>\n",
       "      <td>4880.777000</td>\n",
       "      <td>1400.850000</td>\n",
       "      <td>2.885904</td>\n",
       "      <td>2.293233</td>\n",
       "      <td>6.732124e+07</td>\n",
       "      <td>1.779160e+07</td>\n",
       "      <td>11441.040000</td>\n",
       "      <td>...</td>\n",
       "      <td>-7702.463560</td>\n",
       "      <td>26.426000</td>\n",
       "      <td>357600.000000</td>\n",
       "      <td>96.300000</td>\n",
       "      <td>23.063969</td>\n",
       "      <td>10.317533</td>\n",
       "      <td>15.468492</td>\n",
       "      <td>44.715080</td>\n",
       "      <td>46.388543</td>\n",
       "      <td>22.548259</td>\n",
       "    </tr>\n",
       "    <tr>\n",
       "      <th>50%</th>\n",
       "      <td>31.500000</td>\n",
       "      <td>1990.500000</td>\n",
       "      <td>1.492595</td>\n",
       "      <td>7088.311000</td>\n",
       "      <td>1792.750000</td>\n",
       "      <td>3.629236</td>\n",
       "      <td>2.677773</td>\n",
       "      <td>1.092133e+08</td>\n",
       "      <td>3.353153e+07</td>\n",
       "      <td>27352.153000</td>\n",
       "      <td>...</td>\n",
       "      <td>-5176.686719</td>\n",
       "      <td>30.701000</td>\n",
       "      <td>361535.000000</td>\n",
       "      <td>139.700000</td>\n",
       "      <td>24.694424</td>\n",
       "      <td>12.272650</td>\n",
       "      <td>16.759990</td>\n",
       "      <td>47.171800</td>\n",
       "      <td>46.898999</td>\n",
       "      <td>25.773367</td>\n",
       "    </tr>\n",
       "    <tr>\n",
       "      <th>75%</th>\n",
       "      <td>46.750000</td>\n",
       "      <td>2005.750000</td>\n",
       "      <td>1.584537</td>\n",
       "      <td>10087.917000</td>\n",
       "      <td>2424.150000</td>\n",
       "      <td>3.998403</td>\n",
       "      <td>2.901566</td>\n",
       "      <td>1.630930e+08</td>\n",
       "      <td>5.567075e+07</td>\n",
       "      <td>52621.450000</td>\n",
       "      <td>...</td>\n",
       "      <td>-3400.584767</td>\n",
       "      <td>34.133500</td>\n",
       "      <td>367415.000000</td>\n",
       "      <td>176.000000</td>\n",
       "      <td>29.972246</td>\n",
       "      <td>13.983253</td>\n",
       "      <td>18.085671</td>\n",
       "      <td>51.691314</td>\n",
       "      <td>47.661763</td>\n",
       "      <td>30.017449</td>\n",
       "    </tr>\n",
       "    <tr>\n",
       "      <th>max</th>\n",
       "      <td>62.000000</td>\n",
       "      <td>2021.000000</td>\n",
       "      <td>1.741677</td>\n",
       "      <td>24682.577000</td>\n",
       "      <td>3180.400000</td>\n",
       "      <td>4.504845</td>\n",
       "      <td>3.363952</td>\n",
       "      <td>2.251999e+08</td>\n",
       "      <td>8.431485e+07</td>\n",
       "      <td>83020.880000</td>\n",
       "      <td>...</td>\n",
       "      <td>10236.183590</td>\n",
       "      <td>37.440000</td>\n",
       "      <td>385090.000000</td>\n",
       "      <td>252.000000</td>\n",
       "      <td>43.189201</td>\n",
       "      <td>41.632124</td>\n",
       "      <td>20.506169</td>\n",
       "      <td>58.517321</td>\n",
       "      <td>49.954597</td>\n",
       "      <td>35.272982</td>\n",
       "    </tr>\n",
       "  </tbody>\n",
       "</table>\n",
       "<p>8 rows × 24 columns</p>\n",
       "</div>"
      ],
      "text/plain": [
       "             Sno         Year  \\\n",
       "count  62.000000    62.000000   \n",
       "mean   31.500000  1990.500000   \n",
       "std    18.041619    18.041619   \n",
       "min     1.000000  1960.000000   \n",
       "25%    16.250000  1975.250000   \n",
       "50%    31.500000  1990.500000   \n",
       "75%    46.750000  2005.750000   \n",
       "max    62.000000  2021.000000   \n",
       "\n",
       "       CO2 intensity (kg per kg of oil equivalent energy use) Value  \\\n",
       "count                                          44.000000              \n",
       "mean                                            1.451658              \n",
       "std                                             0.191260              \n",
       "min                                             1.082135              \n",
       "25%                                             1.348312              \n",
       "50%                                             1.492595              \n",
       "75%                                             1.584537              \n",
       "max                                             1.741677              \n",
       "\n",
       "       CO2 emissions from solid fuel consumption (kt) Value  \\\n",
       "count                                          57.000000      \n",
       "mean                                         8820.807667      \n",
       "std                                          5801.626119      \n",
       "min                                          2020.517000      \n",
       "25%                                          4880.777000      \n",
       "50%                                          7088.311000      \n",
       "75%                                         10087.917000      \n",
       "max                                         24682.577000      \n",
       "\n",
       "       Cereal yield (kg per hectare) Value  \\\n",
       "count                            58.000000   \n",
       "mean                           1901.355172   \n",
       "std                             685.292246   \n",
       "min                             840.000000   \n",
       "25%                            1400.850000   \n",
       "50%                            1792.750000   \n",
       "75%                            2424.150000   \n",
       "max                            3180.400000   \n",
       "\n",
       "       Urban population growth (annual %) Value  \\\n",
       "count                                 61.000000   \n",
       "mean                                   3.504194   \n",
       "std                                    0.587140   \n",
       "min                                    2.649983   \n",
       "25%                                    2.885904   \n",
       "50%                                    3.629236   \n",
       "75%                                    3.998403   \n",
       "max                                    4.504845   \n",
       "\n",
       "       Population growth (annual %) Value  Population, total Value  \\\n",
       "count                           61.000000             6.200000e+01   \n",
       "mean                             2.640291             1.179280e+08   \n",
       "std                              0.408392             5.531002e+07   \n",
       "min                              1.931319             4.498869e+07   \n",
       "25%                              2.293233             6.732124e+07   \n",
       "50%                              2.677773             1.092133e+08   \n",
       "75%                              2.901566             1.630930e+08   \n",
       "max                              3.363952             2.251999e+08   \n",
       "\n",
       "       Urban population Value  \\\n",
       "count            6.200000e+01   \n",
       "mean             3.812156e+07   \n",
       "std              2.245096e+07   \n",
       "min              9.944300e+06   \n",
       "25%              1.779160e+07   \n",
       "50%              3.353153e+07   \n",
       "75%              5.567075e+07   \n",
       "max              8.431485e+07   \n",
       "\n",
       "       CO2 emissions from liquid fuel consumption (kt) Value  ...  \\\n",
       "count                                          57.000000      ...   \n",
       "mean                                        32724.115000      ...   \n",
       "std                                         22374.705553      ...   \n",
       "min                                          6552.929000      ...   \n",
       "25%                                         11441.040000      ...   \n",
       "50%                                         27352.153000      ...   \n",
       "75%                                         52621.450000      ...   \n",
       "max                                         83020.880000      ...   \n",
       "\n",
       "       Other greenhouse gas emissions, HFC, PFC and SF6 (thousand metric tons of CO2 equivalent) Value  \\\n",
       "count                                          47.000000                                                 \n",
       "mean                                        -4873.455676                                                 \n",
       "std                                          4021.058214                                                 \n",
       "min                                         -9873.901367                                                 \n",
       "25%                                         -7702.463560                                                 \n",
       "50%                                         -5176.686719                                                 \n",
       "75%                                         -3400.584767                                                 \n",
       "max                                         10236.183590                                                 \n",
       "\n",
       "       Urban population (% of total population) Value  \\\n",
       "count                                       62.000000   \n",
       "mean                                        30.287258   \n",
       "std                                          4.533477   \n",
       "min                                         22.104000   \n",
       "25%                                         26.426000   \n",
       "50%                                         30.701000   \n",
       "75%                                         34.133500   \n",
       "max                                         37.440000   \n",
       "\n",
       "       Agricultural land (sq. km) Value  \\\n",
       "count                         58.000000   \n",
       "mean                      362604.137931   \n",
       "std                         6958.729223   \n",
       "min                       352060.000000   \n",
       "25%                       357600.000000   \n",
       "50%                       361535.000000   \n",
       "75%                       367415.000000   \n",
       "max                       385090.000000   \n",
       "\n",
       "       Mortality rate, under-5 (per 1,000 live births) Value  \\\n",
       "count                                          61.000000       \n",
       "mean                                          140.677049       \n",
       "std                                            49.949115       \n",
       "min                                            65.200000       \n",
       "25%                                            96.300000       \n",
       "50%                                           139.700000       \n",
       "75%                                           176.000000       \n",
       "max                                           252.000000       \n",
       "\n",
       "       Agriculture, forestry, and fishing, value added (% of GDP) Value  \\\n",
       "count                                          62.000000                  \n",
       "mean                                           27.154193                  \n",
       "std                                             5.734083                  \n",
       "min                                            20.677871                  \n",
       "25%                                            23.063969                  \n",
       "50%                                            24.694424                  \n",
       "75%                                            29.972246                  \n",
       "max                                            43.189201                  \n",
       "\n",
       "       CO2 emissions from solid fuel consumption (% of total) Value  \\\n",
       "count                                          57.000000              \n",
       "mean                                           15.253777              \n",
       "std                                             8.455325              \n",
       "min                                             8.064387              \n",
       "25%                                            10.317533              \n",
       "50%                                            12.272650              \n",
       "75%                                            13.983253              \n",
       "max                                            41.632124              \n",
       "\n",
       "       Population in urban agglomerations of more than 1 million (% of total population) Value  \\\n",
       "count                                          62.000000                                         \n",
       "mean                                           16.630572                                         \n",
       "std                                             2.267834                                         \n",
       "min                                            11.501177                                         \n",
       "25%                                            15.468492                                         \n",
       "50%                                            16.759990                                         \n",
       "75%                                            18.085671                                         \n",
       "max                                            20.506169                                         \n",
       "\n",
       "       CO2 emissions from liquid fuel consumption (% of total) Value  \\\n",
       "count                                          57.000000               \n",
       "mean                                           47.870408               \n",
       "std                                             4.899061               \n",
       "min                                            39.083761               \n",
       "25%                                            44.715080               \n",
       "50%                                            47.171800               \n",
       "75%                                            51.691314               \n",
       "max                                            58.517321               \n",
       "\n",
       "       Agricultural land (% of land area) Value  RainFall Mean ()  \n",
       "count                                 58.000000         57.000000  \n",
       "mean                                  47.037689         25.690321  \n",
       "std                                    0.902699          4.867419  \n",
       "min                                   45.669884         15.983080  \n",
       "25%                                   46.388543         22.548259  \n",
       "50%                                   46.898999         25.773367  \n",
       "75%                                   47.661763         30.017449  \n",
       "max                                   49.954597         35.272982  \n",
       "\n",
       "[8 rows x 24 columns]"
      ]
     },
     "execution_count": 6,
     "metadata": {},
     "output_type": "execute_result"
    }
   ],
   "source": [
    "df.describe()"
   ]
  },
  {
   "cell_type": "code",
   "execution_count": 7,
   "id": "30bfdbe4",
   "metadata": {},
   "outputs": [
    {
     "name": "stdout",
     "output_type": "stream",
     "text": [
      "<class 'pandas.core.frame.DataFrame'>\n",
      "RangeIndex: 62 entries, 0 to 61\n",
      "Data columns (total 25 columns):\n",
      " #   Column                                                                                           Non-Null Count  Dtype  \n",
      "---  ------                                                                                           --------------  -----  \n",
      " 0   Sno                                                                                              62 non-null     int64  \n",
      " 1   Country Name                                                                                     62 non-null     object \n",
      " 2   Year                                                                                             62 non-null     int64  \n",
      " 3   CO2 intensity (kg per kg of oil equivalent energy use) Value                                     44 non-null     float64\n",
      " 4   CO2 emissions from solid fuel consumption (kt) Value                                             57 non-null     float64\n",
      " 5   Cereal yield (kg per hectare) Value                                                              58 non-null     float64\n",
      " 6   Urban population growth (annual %) Value                                                         61 non-null     float64\n",
      " 7   Population growth (annual %) Value                                                               61 non-null     float64\n",
      " 8   Population, total Value                                                                          62 non-null     int64  \n",
      " 9   Urban population Value                                                                           62 non-null     int64  \n",
      " 10  CO2 emissions from liquid fuel consumption (kt) Value                                            57 non-null     float64\n",
      " 11  Foreign direct investment, net inflows (% of GDP) Value                                          51 non-null     float64\n",
      " 12  CO2 emissions from gaseous fuel consumption (% of total) Value                                   57 non-null     float64\n",
      " 13  Arable land (% of land area) Value                                                               58 non-null     float64\n",
      " 14  CO2 emissions from gaseous fuel consumption (kt) Value                                           57 non-null     float64\n",
      " 15  Other greenhouse gas emissions, HFC, PFC and SF6 (thousand metric tons of CO2 equivalent) Value  47 non-null     float64\n",
      " 16  Urban population (% of total population) Value                                                   62 non-null     float64\n",
      " 17  Agricultural land (sq. km) Value                                                                 58 non-null     float64\n",
      " 18  Mortality rate, under-5 (per 1,000 live births) Value                                            61 non-null     float64\n",
      " 19  Agriculture, forestry, and fishing, value added (% of GDP) Value                                 62 non-null     float64\n",
      " 20  CO2 emissions from solid fuel consumption (% of total) Value                                     57 non-null     float64\n",
      " 21  Population in urban agglomerations of more than 1 million (% of total population) Value          62 non-null     float64\n",
      " 22  CO2 emissions from liquid fuel consumption (% of total) Value                                    57 non-null     float64\n",
      " 23  Agricultural land (% of land area) Value                                                         58 non-null     float64\n",
      " 24  RainFall Mean ()                                                                                 57 non-null     float64\n",
      "dtypes: float64(20), int64(4), object(1)\n",
      "memory usage: 12.2+ KB\n"
     ]
    }
   ],
   "source": [
    "df.info()"
   ]
  },
  {
   "cell_type": "code",
   "execution_count": 8,
   "id": "9d3f657f",
   "metadata": {},
   "outputs": [
    {
     "data": {
      "text/plain": [
       "Index(['Sno', 'Country Name', 'Year',\n",
       "       'CO2 intensity (kg per kg of oil equivalent energy use) Value',\n",
       "       'CO2 emissions from solid fuel consumption (kt) Value',\n",
       "       'Cereal yield (kg per hectare) Value',\n",
       "       'Urban population growth (annual %) Value',\n",
       "       'Population growth (annual %) Value', 'Population, total Value',\n",
       "       'Urban population Value',\n",
       "       'CO2 emissions from liquid fuel consumption (kt) Value',\n",
       "       'Foreign direct investment, net inflows (% of GDP) Value',\n",
       "       'CO2 emissions from gaseous fuel consumption (% of total) Value',\n",
       "       'Arable land (% of land area) Value',\n",
       "       'CO2 emissions from gaseous fuel consumption (kt) Value',\n",
       "       'Other greenhouse gas emissions, HFC, PFC and SF6 (thousand metric tons of CO2 equivalent) Value',\n",
       "       'Urban population (% of total population) Value',\n",
       "       'Agricultural land (sq. km) Value',\n",
       "       'Mortality rate, under-5 (per 1,000 live births) Value',\n",
       "       'Agriculture, forestry, and fishing, value added (% of GDP) Value',\n",
       "       'CO2 emissions from solid fuel consumption (% of total) Value',\n",
       "       'Population in urban agglomerations of more than 1 million (% of total population) Value',\n",
       "       'CO2 emissions from liquid fuel consumption (% of total) Value',\n",
       "       'Agricultural land (% of land area) Value', 'RainFall Mean ()'],\n",
       "      dtype='object')"
      ]
     },
     "execution_count": 8,
     "metadata": {},
     "output_type": "execute_result"
    }
   ],
   "source": [
    "df.columns"
   ]
  },
  {
   "cell_type": "code",
   "execution_count": 9,
   "id": "5d5303f0",
   "metadata": {
    "scrolled": false
   },
   "outputs": [
    {
     "data": {
      "text/plain": [
       "Sno                                                                                                 0\n",
       "Country Name                                                                                        0\n",
       "Year                                                                                                0\n",
       "CO2 intensity (kg per kg of oil equivalent energy use) Value                                       18\n",
       "CO2 emissions from solid fuel consumption (kt) Value                                                5\n",
       "Cereal yield (kg per hectare) Value                                                                 4\n",
       "Urban population growth (annual %) Value                                                            1\n",
       "Population growth (annual %) Value                                                                  1\n",
       "Population, total Value                                                                             0\n",
       "Urban population Value                                                                              0\n",
       "CO2 emissions from liquid fuel consumption (kt) Value                                               5\n",
       "Foreign direct investment, net inflows (% of GDP) Value                                            11\n",
       "CO2 emissions from gaseous fuel consumption (% of total) Value                                      5\n",
       "Arable land (% of land area) Value                                                                  4\n",
       "CO2 emissions from gaseous fuel consumption (kt) Value                                              5\n",
       "Other greenhouse gas emissions, HFC, PFC and SF6 (thousand metric tons of CO2 equivalent) Value    15\n",
       "Urban population (% of total population) Value                                                      0\n",
       "Agricultural land (sq. km) Value                                                                    4\n",
       "Mortality rate, under-5 (per 1,000 live births) Value                                               1\n",
       "Agriculture, forestry, and fishing, value added (% of GDP) Value                                    0\n",
       "CO2 emissions from solid fuel consumption (% of total) Value                                        5\n",
       "Population in urban agglomerations of more than 1 million (% of total population) Value             0\n",
       "CO2 emissions from liquid fuel consumption (% of total) Value                                       5\n",
       "Agricultural land (% of land area) Value                                                            4\n",
       "RainFall Mean ()                                                                                    5\n",
       "dtype: int64"
      ]
     },
     "execution_count": 9,
     "metadata": {},
     "output_type": "execute_result"
    }
   ],
   "source": [
    "df.isnull().sum()"
   ]
  },
  {
   "cell_type": "code",
   "execution_count": 10,
   "id": "24a9554b",
   "metadata": {},
   "outputs": [
    {
     "data": {
      "image/png": "[encoded data removed]",
      "text/plain": [
       "<Figure size 1200x600 with 1 Axes>"
      ]
     },
     "metadata": {},
     "output_type": "display_data"
    }
   ],
   "source": [
    "# Histogram - distribution of 'CO2 emissions from solid fuel consumption'.\n",
    "plt.figure(figsize=(12, 6))\n",
    "sns.histplot(df['CO2 emissions from solid fuel consumption (kt) Value'], bins=20, kde=True, color='blue')\n",
    "plt.title('Distribution of CO2 Emissions from Solid Fuel Consumption')\n",
    "plt.xlabel('CO2 Emissions (kt)')\n",
    "plt.ylabel('Frequency')\n",
    "plt.show()"
   ]
  },
  {
   "cell_type": "markdown",
   "id": "1424dff7",
   "metadata": {},
   "source": [
    "# Data Cleaning and Preprocessing."
   ]
  },
  {
   "cell_type": "code",
   "execution_count": 11,
   "id": "587612a4",
   "metadata": {},
   "outputs": [],
   "source": [
    "# Droping unnecessary columns.\n",
    "df = df.drop(['Sno', 'Country Name'], axis=1)"
   ]
  },
  {
   "cell_type": "code",
   "execution_count": 12,
   "id": "513116ed",
   "metadata": {},
   "outputs": [],
   "source": [
    "# Imputing missing values with mean.\n",
    "imputer = SimpleImputer(missing_values=np.nan, strategy='mean')\n",
    "df = pd.DataFrame(imputer.fit_transform(df), columns=df.columns)"
   ]
  },
  {
   "cell_type": "markdown",
   "id": "d4a3fd78",
   "metadata": {},
   "source": [
    "# Splitting Data Into Test-Train Sets."
   ]
  },
  {
   "cell_type": "code",
   "execution_count": 13,
   "id": "397f8eca",
   "metadata": {},
   "outputs": [],
   "source": [
    "X = df.drop(['Year', 'CO2 emissions from liquid fuel consumption (kt) Value'], axis=1)\n",
    "y = df['CO2 emissions from liquid fuel consumption (kt) Value']"
   ]
  },
  {
   "cell_type": "code",
   "execution_count": 14,
   "id": "04231326",
   "metadata": {},
   "outputs": [],
   "source": [
    "X_train, X_test, y_train, y_test = train_test_split(X, y, test_size=0.2, random_state=0)"
   ]
  },
  {
   "cell_type": "markdown",
   "id": "bb0b2413",
   "metadata": {},
   "source": [
    "# Feature Scaling."
   ]
  },
  {
   "cell_type": "code",
   "execution_count": 15,
   "id": "ea711853",
   "metadata": {},
   "outputs": [],
   "source": [
    "scaler = MinMaxScaler()"
   ]
  },
  {
   "cell_type": "code",
   "execution_count": 16,
   "id": "1642066f",
   "metadata": {},
   "outputs": [],
   "source": [
    "X_train = scaler.fit_transform(X_train)"
   ]
  },
  {
   "cell_type": "code",
   "execution_count": 17,
   "id": "ac4bea1a",
   "metadata": {},
   "outputs": [],
   "source": [
    "X_test = scaler.transform(X_test)"
   ]
  },
  {
   "cell_type": "markdown",
   "id": "a03bcb2c",
   "metadata": {},
   "source": [
    "# Training RNN (LSTM) model."
   ]
  },
  {
   "cell_type": "code",
   "execution_count": 18,
   "id": "5780fe31",
   "metadata": {},
   "outputs": [
    {
     "name": "stdout",
     "output_type": "stream",
     "text": [
      "WARNING:tensorflow:From C:\\Users\\Khairullah_Hamsafar\\AppData\\Roaming\\Python\\Python311\\site-packages\\keras\\src\\backend.py:873: The name tf.get_default_graph is deprecated. Please use tf.compat.v1.get_default_graph instead.\n",
      "\n"
     ]
    }
   ],
   "source": [
    "model_rnn = Sequential()\n",
    "model_rnn.add(LSTM(50, activation='relu', input_shape=(X_train.shape[1], 1)))\n",
    "model_rnn.add(Dense(1))"
   ]
  },
  {
   "cell_type": "code",
   "execution_count": 19,
   "id": "13369889",
   "metadata": {},
   "outputs": [
    {
     "name": "stdout",
     "output_type": "stream",
     "text": [
      "WARNING:tensorflow:From C:\\Users\\Khairullah_Hamsafar\\AppData\\Roaming\\Python\\Python311\\site-packages\\keras\\src\\optimizers\\__init__.py:309: The name tf.train.Optimizer is deprecated. Please use tf.compat.v1.train.Optimizer instead.\n",
      "\n"
     ]
    }
   ],
   "source": [
    "model_rnn.compile(optimizer='adam', loss='mean_squared_error')"
   ]
  },
  {
   "cell_type": "code",
   "execution_count": 20,
   "id": "66708c85",
   "metadata": {},
   "outputs": [],
   "source": [
    "# Reshaping input data for LSTM.\n",
    "X_train_lstm = X_train.reshape((X_train.shape[0], X_train.shape[1], 1))\n",
    "X_test_lstm = X_test.reshape((X_test.shape[0], X_test.shape[1], 1))"
   ]
  },
  {
   "cell_type": "code",
   "execution_count": 21,
   "id": "4b8f1659",
   "metadata": {
    "scrolled": false
   },
   "outputs": [
    {
     "name": "stdout",
     "output_type": "stream",
     "text": [
      "Epoch 1/56\n",
      "WARNING:tensorflow:From C:\\Users\\Khairullah_Hamsafar\\AppData\\Roaming\\Python\\Python311\\site-packages\\keras\\src\\utils\\tf_utils.py:492: The name tf.ragged.RaggedTensorValue is deprecated. Please use tf.compat.v1.ragged.RaggedTensorValue instead.\n",
      "\n",
      "2/2 [==============================] - 2s 335ms/step - loss: 1557562240.0000 - val_loss: 1392935040.0000\n",
      "Epoch 2/56\n",
      "2/2 [==============================] - 0s 56ms/step - loss: 1557560960.0000 - val_loss: 1392933760.0000\n",
      "Epoch 3/56\n",
      "2/2 [==============================] - 0s 49ms/step - loss: 1557559680.0000 - val_loss: 1392932352.0000\n",
      "Epoch 4/56\n",
      "2/2 [==============================] - 0s 44ms/step - loss: 1557558272.0000 - val_loss: 1392931072.0000\n",
      "Epoch 5/56\n",
      "2/2 [==============================] - 0s 48ms/step - loss: 1557556864.0000 - val_loss: 1392929664.0000\n",
      "Epoch 6/56\n",
      "2/2 [==============================] - 0s 44ms/step - loss: 1557555328.0000 - val_loss: 1392928000.0000\n",
      "Epoch 7/56\n",
      "2/2 [==============================] - 0s 49ms/step - loss: 1557553536.0000 - val_loss: 1392926208.0000\n",
      "Epoch 8/56\n",
      "2/2 [==============================] - 0s 51ms/step - loss: 1557551616.0000 - val_loss: 1392924032.0000\n",
      "Epoch 9/56\n",
      "2/2 [==============================] - 0s 45ms/step - loss: 1557549312.0000 - val_loss: 1392921472.0000\n",
      "Epoch 10/56\n",
      "2/2 [==============================] - 0s 49ms/step - loss: 1557546496.0000 - val_loss: 1392918272.0000\n",
      "Epoch 11/56\n",
      "2/2 [==============================] - 0s 44ms/step - loss: 1557542784.0000 - val_loss: 1392913920.0000\n",
      "Epoch 12/56\n",
      "2/2 [==============================] - 0s 49ms/step - loss: 1557537920.0000 - val_loss: 1392908032.0000\n",
      "Epoch 13/56\n",
      "2/2 [==============================] - 0s 43ms/step - loss: 1557531264.0000 - val_loss: 1392899456.0000\n",
      "Epoch 14/56\n",
      "2/2 [==============================] - 0s 47ms/step - loss: 1557521664.0000 - val_loss: 1392886528.0000\n",
      "Epoch 15/56\n",
      "2/2 [==============================] - 0s 47ms/step - loss: 1557505792.0000 - val_loss: 1392864000.0000\n",
      "Epoch 16/56\n",
      "2/2 [==============================] - 0s 48ms/step - loss: 1557480064.0000 - val_loss: 1392817920.0000\n",
      "Epoch 17/56\n",
      "2/2 [==============================] - 0s 51ms/step - loss: 1557415040.0000 - val_loss: 1392698240.0000\n",
      "Epoch 18/56\n",
      "2/2 [==============================] - 0s 46ms/step - loss: 1557245056.0000 - val_loss: 1392221440.0000\n",
      "Epoch 19/56\n",
      "2/2 [==============================] - 0s 45ms/step - loss: 1556485632.0000 - val_loss: 1390153088.0000\n",
      "Epoch 20/56\n",
      "2/2 [==============================] - 0s 47ms/step - loss: 1553382272.0000 - val_loss: 1382477056.0000\n",
      "Epoch 21/56\n",
      "2/2 [==============================] - 0s 47ms/step - loss: 1543743232.0000 - val_loss: 1356461824.0000\n",
      "Epoch 22/56\n",
      "2/2 [==============================] - 0s 47ms/step - loss: 1508888192.0000 - val_loss: 1280162304.0000\n",
      "Epoch 23/56\n",
      "2/2 [==============================] - 0s 45ms/step - loss: 1415648768.0000 - val_loss: 1075081728.0000\n",
      "Epoch 24/56\n",
      "2/2 [==============================] - 0s 54ms/step - loss: 1157887744.0000 - val_loss: 597391296.0000\n",
      "Epoch 25/56\n",
      "2/2 [==============================] - 0s 48ms/step - loss: 622591424.0000 - val_loss: 33377896.0000\n",
      "Epoch 26/56\n",
      "2/2 [==============================] - 0s 54ms/step - loss: 192372736.0000 - val_loss: 752256960.0000\n",
      "Epoch 27/56\n",
      "2/2 [==============================] - 0s 49ms/step - loss: 554980416.0000 - val_loss: 57861148.0000\n",
      "Epoch 28/56\n",
      "2/2 [==============================] - 0s 47ms/step - loss: 141659408.0000 - val_loss: 139420656.0000\n",
      "Epoch 29/56\n",
      "2/2 [==============================] - 0s 47ms/step - loss: 284057984.0000 - val_loss: 263161952.0000\n",
      "Epoch 30/56\n",
      "2/2 [==============================] - 0s 45ms/step - loss: 395603744.0000 - val_loss: 238948432.0000\n",
      "Epoch 31/56\n",
      "2/2 [==============================] - 0s 48ms/step - loss: 349725952.0000 - val_loss: 117928416.0000\n",
      "Epoch 32/56\n",
      "2/2 [==============================] - 0s 50ms/step - loss: 199044640.0000 - val_loss: 35116260.0000\n",
      "Epoch 33/56\n",
      "2/2 [==============================] - 0s 45ms/step - loss: 151361696.0000 - val_loss: 180589296.0000\n",
      "Epoch 34/56\n",
      "2/2 [==============================] - 0s 47ms/step - loss: 216003312.0000 - val_loss: 131555248.0000\n",
      "Epoch 35/56\n",
      "2/2 [==============================] - 0s 45ms/step - loss: 160782720.0000 - val_loss: 33780600.0000\n",
      "Epoch 36/56\n",
      "2/2 [==============================] - 0s 48ms/step - loss: 122876872.0000 - val_loss: 55696376.0000\n",
      "Epoch 37/56\n",
      "2/2 [==============================] - 0s 44ms/step - loss: 163608496.0000 - val_loss: 64177516.0000\n",
      "Epoch 38/56\n",
      "2/2 [==============================] - 0s 50ms/step - loss: 165294832.0000 - val_loss: 39510820.0000\n",
      "Epoch 39/56\n",
      "2/2 [==============================] - 0s 58ms/step - loss: 129720280.0000 - val_loss: 41470960.0000\n",
      "Epoch 40/56\n",
      "2/2 [==============================] - 0s 52ms/step - loss: 117682336.0000 - val_loss: 84802576.0000\n",
      "Epoch 41/56\n",
      "2/2 [==============================] - 0s 51ms/step - loss: 144775088.0000 - val_loss: 73195832.0000\n",
      "Epoch 42/56\n",
      "2/2 [==============================] - 0s 45ms/step - loss: 123450736.0000 - val_loss: 34282984.0000\n",
      "Epoch 43/56\n",
      "2/2 [==============================] - 0s 46ms/step - loss: 127048032.0000 - val_loss: 38427900.0000\n",
      "Epoch 44/56\n",
      "2/2 [==============================] - 0s 48ms/step - loss: 132797952.0000 - val_loss: 35687064.0000\n",
      "Epoch 45/56\n",
      "2/2 [==============================] - 0s 54ms/step - loss: 123910480.0000 - val_loss: 35507428.0000\n",
      "Epoch 46/56\n",
      "2/2 [==============================] - 0s 47ms/step - loss: 117101368.0000 - val_loss: 55238096.0000\n",
      "Epoch 47/56\n",
      "2/2 [==============================] - 0s 48ms/step - loss: 119679552.0000 - val_loss: 58334336.0000\n",
      "Epoch 48/56\n",
      "2/2 [==============================] - 0s 47ms/step - loss: 120549616.0000 - val_loss: 43396912.0000\n",
      "Epoch 49/56\n",
      "2/2 [==============================] - 0s 43ms/step - loss: 115356984.0000 - val_loss: 35326640.0000\n",
      "Epoch 50/56\n",
      "2/2 [==============================] - 0s 44ms/step - loss: 113860472.0000 - val_loss: 34219460.0000\n",
      "Epoch 51/56\n",
      "2/2 [==============================] - 0s 47ms/step - loss: 114261856.0000 - val_loss: 35563516.0000\n",
      "Epoch 52/56\n",
      "2/2 [==============================] - 0s 43ms/step - loss: 114065056.0000 - val_loss: 37874584.0000\n",
      "Epoch 53/56\n",
      "2/2 [==============================] - 0s 48ms/step - loss: 113229608.0000 - val_loss: 37929344.0000\n",
      "Epoch 54/56\n",
      "2/2 [==============================] - 0s 45ms/step - loss: 112890528.0000 - val_loss: 36454056.0000\n",
      "Epoch 55/56\n",
      "2/2 [==============================] - 0s 47ms/step - loss: 113021376.0000 - val_loss: 37056916.0000\n",
      "Epoch 56/56\n",
      "2/2 [==============================] - 0s 48ms/step - loss: 112815312.0000 - val_loss: 40313560.0000\n"
     ]
    },
    {
     "data": {
      "text/plain": [
       "<keras.src.callbacks.History at 0x1f07a1cbb90>"
      ]
     },
     "execution_count": 21,
     "metadata": {},
     "output_type": "execute_result"
    }
   ],
   "source": [
    "model_rnn.fit(X_train_lstm, y_train, epochs=56, batch_size=32, validation_data=(X_test_lstm, y_test))"
   ]
  },
  {
   "cell_type": "markdown",
   "id": "21c4a412",
   "metadata": {},
   "source": [
    "# Evaluating The Model."
   ]
  },
  {
   "cell_type": "code",
   "execution_count": 22,
   "id": "519601e7",
   "metadata": {},
   "outputs": [],
   "source": [
    "# Creating evaluater function.\n",
    "def evaluate_model(model, X_test, y_test):\n",
    "    y_pred = model.predict(X_test)\n",
    "    y_pred = y_pred.reshape((y_pred.shape[0],))\n",
    "    scores = {\n",
    "        \"R2\": r2_score(y_test, y_pred),\n",
    "        \"MAE\": mean_absolute_error(y_test, y_pred),\n",
    "        \"MSE\": mean_squared_error(y_test, y_pred),\n",
    "    }\n",
    "    return scores"
   ]
  },
  {
   "cell_type": "code",
   "execution_count": 23,
   "id": "348eb48a",
   "metadata": {
    "scrolled": true
   },
   "outputs": [
    {
     "name": "stdout",
     "output_type": "stream",
     "text": [
      "1/1 [==============================] - 0s 230ms/step\n",
      "RNN Model Scores:\n",
      "{'R2': 0.8739289882239354, 'MAE': 5303.176515624999, 'MSE': 40313554.60658434}\n"
     ]
    }
   ],
   "source": [
    "# Applying evaluater function on RNN model.\n",
    "scores_rnn = evaluate_model(model_rnn, X_test_lstm, y_test)\n",
    "print(\"RNN Model Scores:\")\n",
    "print(scores_rnn)"
   ]
  },
  {
   "cell_type": "code",
   "execution_count": 24,
   "id": "29363642",
   "metadata": {},
   "outputs": [
    {
     "name": "stdout",
     "output_type": "stream",
     "text": [
      "\n",
      "RNN Model Scores:\n",
      "R2: 87.39%\n",
      "MAE: 5303.18\n",
      "MSE: 40313554.61\n"
     ]
    }
   ],
   "source": [
    "# RNN Evaluation percentage.\n",
    "print(\"\\nRNN Model Scores:\")\n",
    "print(\"R2: {:.2%}\".format(scores_rnn['R2']))\n",
    "print(\"MAE: {:.2f}\".format(scores_rnn['MAE']))\n",
    "print(\"MSE: {:.2f}\".format(scores_rnn['MSE']))"
   ]
  },
  {
   "cell_type": "markdown",
   "id": "955c6f69",
   "metadata": {},
   "source": [
    "# Final Results Visualizations."
   ]
  },
  {
   "cell_type": "code",
   "execution_count": 25,
   "id": "59595ab5",
   "metadata": {},
   "outputs": [
    {
     "name": "stdout",
     "output_type": "stream",
     "text": [
      "1/1 [==============================] - 0s 31ms/step\n"
     ]
    },
    {
     "data": {
      "image/png": "[encoded data removed]",
      "text/plain": [
       "<Figure size 1100x600 with 1 Axes>"
      ]
     },
     "metadata": {},
     "output_type": "display_data"
    }
   ],
   "source": [
    "# Visualizing predictions vs actual values for RNN model.\n",
    "plt.figure(figsize=(11, 6))\n",
    "plt.plot(y_test.values, label='Actual CO2 Emissions')\n",
    "plt.plot(model_rnn.predict(X_test_lstm), label='Predicted CO2 Emissions (RNN)')\n",
    "plt.title('RNN (LSTM) Model - Actual vs Predicted CO2 Emissions (Liquid Fuel Consumption)')\n",
    "plt.xlabel('Samples')\n",
    "plt.ylabel('CO2 Emissions (kt)')\n",
    "plt.legend()\n",
    "plt.show()"
   ]
  }
 ],
 "metadata": {
  "kernelspec": {
   "display_name": "Python 3 (ipykernel)",
   "language": "python",
   "name": "python3"
  },
  "language_info": {
   "codemirror_mode": {
    "name": "ipython",
    "version": 3
   },
   "file_extension": ".py",
   "mimetype": "text/x-python",
   "name": "python",
   "nbconvert_exporter": "python",
   "pygments_lexer": "ipython3",
   "version": "3.11.5"
  }
 },
 "nbformat": 4,
 "nbformat_minor": 5
}
