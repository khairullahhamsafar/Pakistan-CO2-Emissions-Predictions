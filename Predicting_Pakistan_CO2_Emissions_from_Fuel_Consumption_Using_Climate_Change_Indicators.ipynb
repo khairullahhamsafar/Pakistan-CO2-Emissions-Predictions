{
 "cells": [
  {
   "cell_type": "markdown",
   "id": "532447cc",
   "metadata": {},
   "source": [
    "# Introduction"
   ]
  },
  {
   "cell_type": "markdown",
   "id": "d90e424c",
   "metadata": {},
   "source": [
    "### <b>Project Title:</b> Predicting Pakistan CO2 Emissions from Fuel (Liquide, Solid) Consumption Using Climate Change Indicators.\n",
    "\n",
    "### <b>Data:</b> Climate Change Indicators Dataset By "
   ]
  },
  {
   "cell_type": "code",
   "execution_count": null,
   "id": "825b36a7",
   "metadata": {},
   "outputs": [],
   "source": []
  }
 ],
 "metadata": {
  "kernelspec": {
   "display_name": "Python 3 (ipykernel)",
   "language": "python",
   "name": "python3"
  },
  "language_info": {
   "codemirror_mode": {
    "name": "ipython",
    "version": 3
   },
   "file_extension": ".py",
   "mimetype": "text/x-python",
   "name": "python",
   "nbconvert_exporter": "python",
   "pygments_lexer": "ipython3",
   "version": "3.11.5"
  }
 },
 "nbformat": 4,
 "nbformat_minor": 5
}
